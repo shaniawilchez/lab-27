{
  "nbformat": 4,
  "nbformat_minor": 0,
  "metadata": {
    "colab": {
      "provenance": []
    },
    "kernelspec": {
      "name": "python3",
      "display_name": "Python 3"
    },
    "language_info": {
      "name": "python"
    }
  },
  "cells": [
    {
      "cell_type": "code",
      "execution_count": 2,
      "metadata": {
        "id": "6yqift8wD7Xg"
      },
      "outputs": [],
      "source": [
        "import pandas as pd"
      ]
    },
    {
      "cell_type": "code",
      "source": [
        "from google.colab import drive\n",
        "drive.mount('/content/drive')"
      ],
      "metadata": {
        "id": "6hHslh2tEiuP",
        "colab": {
          "base_uri": "https://localhost:8080/"
        },
        "outputId": "2176f32e-b8cc-4392-b2c6-ad39199a3e93"
      },
      "execution_count": null,
      "outputs": [
        {
          "output_type": "stream",
          "name": "stdout",
          "text": [
            "Drive already mounted at /content/drive; to attempt to forcibly remount, call drive.mount(\"/content/drive\", force_remount=True).\n"
          ]
        }
      ]
    },
    {
      "cell_type": "code",
      "source": [
        "file_path = \"Producto_licores.csv\"\n",
        "df = pd.read_csv(file_path)"
      ],
      "metadata": {
        "id": "NVtDa_cZJmnI"
      },
      "execution_count": 4,
      "outputs": []
    },
    {
      "cell_type": "code",
      "source": [
        "#mostras las primeras 5 filas\n",
        "\n",
        "print (\"Primas filas de datast\")\n",
        "print (df.head())"
      ],
      "metadata": {
        "id": "aLXpIFnaLP7H",
        "colab": {
          "base_uri": "https://localhost:8080/"
        },
        "outputId": "d8ca4670-d269-4da5-d43a-7e0744ab903d"
      },
      "execution_count": null,
      "outputs": [
        {
          "output_type": "stream",
          "name": "stdout",
          "text": [
            "Primas filas de datast\n",
            "  ORIGEN                                PRODUCTO  GRADO DE ALCOHOL  \\\n",
            "0      N               Ap. Brissart Sabor A Cafe              10.0   \n",
            "1      N  Ap. Crema Con Sabor A Chocolate M Harv              14.0   \n",
            "2      N   Ap. Crema Sab Whisky Harvey Mackys 14              14.0   \n",
            "3      N   Ap. Crema Sab Whisky Harvey Mackys 14              14.0   \n",
            "4      N      Ap. Crema Sab. A Ron Harvey Mackys              14.0   \n",
            "\n",
            "     REGISTRO SANITARIO VIGENCIA DE REGISTRO SANITARIO  \\\n",
            "0  INVIMA 2019L-0010049                     19/06/2029   \n",
            "1  INVIMA 2016L-0008145                     14/04/2026   \n",
            "2  INVIMA 2017L-0008812                     17/07/2027   \n",
            "3  INVIMA 2017L-0008812                     17/07/2027   \n",
            "4  INVIMA 2014L-0007076                     12/05/2024   \n",
            "\n",
            "   RESOLUCIÓN DE REGISTRO SANITARIO                         PRODUCTOR  \\\n",
            "0                        19022399.0            LICORES BRISSART S.A.S   \n",
            "1                        16009721.0  CANDIOTA DE VINOS Y LICORES S.A.   \n",
            "2                        17025467.0  CANDIOTA DE VINOS Y LICORES S.A.   \n",
            "3                        17025467.0  CANDIOTA DE VINOS Y LICORES S.A.   \n",
            "4                        14009708.0  CANDIOTA DE VINOS Y LICORES S.A.   \n",
            "\n",
            "               NOMBRE EMPRESA DISTRIBUIDORA        NIT  \n",
            "0  RODRIGUEZ Q. ALEXANDER/J&M DIST BRISSART  100278640  \n",
            "1  RODRIGUEZ Q. ALEXANDER/J&M DIST BRISSART  100278640  \n",
            "2  RODRIGUEZ Q. ALEXANDER/J&M DIST BRISSART  100278640  \n",
            "3  RODRIGUEZ Q. ALEXANDER/J&M DIST BRISSART  100278640  \n",
            "4  RODRIGUEZ Q. ALEXANDER/J&M DIST BRISSART  100278640  \n"
          ]
        }
      ]
    },
    {
      "cell_type": "code",
      "source": [
        "#ver ultimas filas de dataset\n",
        "\n",
        "print (\"ultumas filas de dataset: \")\n",
        "print (df.tail())"
      ],
      "metadata": {
        "id": "2WHhHxKmNEZp",
        "colab": {
          "base_uri": "https://localhost:8080/"
        },
        "outputId": "587bc3a9-9eb1-4342-c9d5-544c38543df2"
      },
      "execution_count": null,
      "outputs": [
        {
          "output_type": "stream",
          "name": "stdout",
          "text": [
            "ultumas filas de dataset: \n",
            "      ORIGEN                  PRODUCTO  GRADO DE ALCOHOL  \\\n",
            "24612      I        Sidra Marca Aspall              5.26   \n",
            "24613      I        Sidra Marca Aspall              5.26   \n",
            "24614      I  Sidra Stowford Press (B)              4.41   \n",
            "24615      I  Sidra Stowford Press (B)              4.41   \n",
            "24616      I  Sidra Stowford Press (L)              4.41   \n",
            "\n",
            "         REGISTRO SANITARIO VIGENCIA DE REGISTRO SANITARIO  \\\n",
            "24612  INVIMA 2014L-0007166                     25/07/2024   \n",
            "24613  INVIMA 2014L-0007166                     25/07/2024   \n",
            "24614  INVIMA 2015L-0007912                     30/11/2025   \n",
            "24615  INVIMA 2015L-0007912                     30/11/2025   \n",
            "24616  INVIMA 2015L-0007912                     30/11/2025   \n",
            "\n",
            "       RESOLUCIÓN DE REGISTRO SANITARIO                       PRODUCTOR  \\\n",
            "24612                        14018694.0        JULIAN GUTIERREZ VILLOTA   \n",
            "24613                        14018694.0        JULIAN GUTIERREZ VILLOTA   \n",
            "24614                        15044491.0  GREAT BRITISH BEVERAGES S.A.S.   \n",
            "24615                        15044491.0  GREAT BRITISH BEVERAGES S.A.S.   \n",
            "24616                        15044491.0                             NaN   \n",
            "\n",
            "      NOMBRE EMPRESA DISTRIBUIDORA       NIT  \n",
            "24612   OTERO ALZATE JORGE ALBERTO  99750521  \n",
            "24613   OTERO ALZATE JORGE ALBERTO  99750521  \n",
            "24614   OTERO ALZATE JORGE ALBERTO  99750521  \n",
            "24615   OTERO ALZATE JORGE ALBERTO  99750521  \n",
            "24616   OTERO ALZATE JORGE ALBERTO  99750521  \n"
          ]
        }
      ]
    },
    {
      "cell_type": "code",
      "source": [
        "#mostrar informacion general\n",
        "\n",
        "print(\"Imformacion general de dataset: \")\n",
        "print(df.info())"
      ],
      "metadata": {
        "id": "QFOPyXm2O9Vj",
        "colab": {
          "base_uri": "https://localhost:8080/"
        },
        "outputId": "cb34df00-215b-4b2d-992c-f7e2644904a6"
      },
      "execution_count": null,
      "outputs": [
        {
          "output_type": "stream",
          "name": "stdout",
          "text": [
            "Imformacion general de dataset: \n",
            "<class 'pandas.core.frame.DataFrame'>\n",
            "RangeIndex: 24617 entries, 0 to 24616\n",
            "Data columns (total 9 columns):\n",
            " #   Column                            Non-Null Count  Dtype  \n",
            "---  ------                            --------------  -----  \n",
            " 0   ORIGEN                            24617 non-null  object \n",
            " 1   PRODUCTO                          24617 non-null  object \n",
            " 2   GRADO DE ALCOHOL                  24617 non-null  float64\n",
            " 3   REGISTRO SANITARIO                24483 non-null  object \n",
            " 4   VIGENCIA DE REGISTRO SANITARIO    24617 non-null  object \n",
            " 5   RESOLUCIÓN DE REGISTRO SANITARIO  18311 non-null  float64\n",
            " 6   PRODUCTOR                         24449 non-null  object \n",
            " 7   NOMBRE EMPRESA DISTRIBUIDORA      24617 non-null  object \n",
            " 8   NIT                               24617 non-null  int64  \n",
            "dtypes: float64(2), int64(1), object(6)\n",
            "memory usage: 1.7+ MB\n",
            "None\n"
          ]
        }
      ]
    },
    {
      "cell_type": "code",
      "source": [
        "#verificar si hay valore nulos\n",
        "\n",
        "print(\"Valores nulos por columnas: \")\n",
        "print(df.isnull().sum())"
      ],
      "metadata": {
        "id": "sV4YRz8nP0qx",
        "colab": {
          "base_uri": "https://localhost:8080/"
        },
        "outputId": "a31d3e3e-3ed7-4518-fcc2-bc1c833bf367"
      },
      "execution_count": null,
      "outputs": [
        {
          "output_type": "stream",
          "name": "stdout",
          "text": [
            "Valores nulos por columnas: \n",
            "ORIGEN                                 0\n",
            "PRODUCTO                               0\n",
            "GRADO DE ALCOHOL                       0\n",
            "REGISTRO SANITARIO                   134\n",
            "VIGENCIA DE REGISTRO SANITARIO         0\n",
            "RESOLUCIÓN DE REGISTRO SANITARIO    6306\n",
            "PRODUCTOR                            168\n",
            "NOMBRE EMPRESA DISTRIBUIDORA           0\n",
            "NIT                                    0\n",
            "dtype: int64\n"
          ]
        }
      ]
    },
    {
      "cell_type": "code",
      "source": [
        "#validar filas duplicadas\n",
        "\n",
        "print(\"Numero de filas dupliadas: \")\n",
        "print(df.duplicated().sum())"
      ],
      "metadata": {
        "id": "VHtRUBwIQz8s",
        "colab": {
          "base_uri": "https://localhost:8080/"
        },
        "outputId": "9e7bfc08-8044-4c0a-8f2c-18808903044f"
      },
      "execution_count": null,
      "outputs": [
        {
          "output_type": "stream",
          "name": "stdout",
          "text": [
            "Numero de filas dupliadas: \n",
            "2574\n"
          ]
        }
      ]
    },
    {
      "cell_type": "code",
      "source": [
        "#numero de filas y columnas\n",
        "\n",
        "print(\"Numerode filas y columnas: \")\n",
        "print(df.shape)"
      ],
      "metadata": {
        "id": "a_6TG6I0Renp",
        "colab": {
          "base_uri": "https://localhost:8080/"
        },
        "outputId": "995bb451-a6da-4382-a5da-3a151ef436b0"
      },
      "execution_count": null,
      "outputs": [
        {
          "output_type": "stream",
          "name": "stdout",
          "text": [
            "Numerode filas y columnas: \n",
            "(24617, 9)\n"
          ]
        }
      ]
    },
    {
      "cell_type": "code",
      "source": [
        "#Nombres de las columnas\n",
        "\n",
        "print(\"Nombres de las columnas: \")\n",
        "print(df.columns)"
      ],
      "metadata": {
        "colab": {
          "base_uri": "https://localhost:8080/"
        },
        "id": "o7Md32g5SaGC",
        "outputId": "131efc51-928c-4ae8-b196-149a8d66281b"
      },
      "execution_count": null,
      "outputs": [
        {
          "output_type": "stream",
          "name": "stdout",
          "text": [
            "Nombres de las columnas: \n",
            "Index(['ORIGEN', 'PRODUCTO', 'GRADO DE ALCOHOL', 'REGISTRO SANITARIO',\n",
            "       'VIGENCIA DE REGISTRO SANITARIO', 'RESOLUCIÓN DE REGISTRO SANITARIO',\n",
            "       'PRODUCTOR', 'NOMBRE EMPRESA DISTRIBUIDORA', 'NIT'],\n",
            "      dtype='object')\n"
          ]
        }
      ]
    },
    {
      "cell_type": "code",
      "source": [
        "#Resumen filas cadegoricas\n",
        "\n",
        "for column in df.select_dtypes(include=['object']).columns:\n",
        "  print(f\"{column}: \")\n",
        "  print(df[column].unique()[:5])"
      ],
      "metadata": {
        "colab": {
          "base_uri": "https://localhost:8080/"
        },
        "id": "Ikoe9HY_SyTQ",
        "outputId": "9f995373-ceee-42f9-baac-cced66935fbc"
      },
      "execution_count": null,
      "outputs": [
        {
          "output_type": "stream",
          "name": "stdout",
          "text": [
            "ORIGEN: \n",
            "['N' 'I']\n",
            "PRODUCTO: \n",
            "['Ap. Brissart Sabor A Cafe' 'Ap. Crema Con Sabor A Chocolate M Harv'\n",
            " 'Ap. Crema Sab Whisky Harvey Mackys 14'\n",
            " 'Ap. Crema Sab. A Ron Harvey Mackys' 'Ap. Crema Sabor A Whisky Brissart']\n",
            "REGISTRO SANITARIO: \n",
            "['INVIMA 2019L-0010049' 'INVIMA 2016L-0008145' 'INVIMA 2017L-0008812'\n",
            " 'INVIMA 2014L-0007076' 'INVIMA 2019L-0009865']\n",
            "VIGENCIA DE REGISTRO SANITARIO: \n",
            "['19/06/2029' '14/04/2026' '17/07/2027' '12/05/2024' '8/03/2029']\n",
            "PRODUCTOR: \n",
            "['LICORES BRISSART S.A.S' 'CANDIOTA DE VINOS Y LICORES S.A.'\n",
            " 'CASA LA VIÑA LTDA' 'CASA LA VIÑA LTDA.' 'PITASH S.A.S.']\n",
            "NOMBRE EMPRESA DISTRIBUIDORA: \n",
            "['RODRIGUEZ Q. ALEXANDER/J&M DIST BRISSART'\n",
            " 'VELASQUEZ ARANGO JAIME A/ESTANQ. POPULAR' 'GOMEZ CARDONA DIANA CAROLINA'\n",
            " 'DELGADO MARIN LUISA FERNANDA' 'HENAO CEBALLOS LAURA CAROLINA']\n"
          ]
        }
      ]
    },
    {
      "cell_type": "code",
      "source": [
        "#Cantidad de valores unicos por columnas\n",
        "\n",
        "print(\"Valores unidospor columnas: \")\n",
        "print(df.nunique())"
      ],
      "metadata": {
        "colab": {
          "base_uri": "https://localhost:8080/"
        },
        "id": "q2kzZygwUgG_",
        "outputId": "cae00163-870e-47f8-d42c-1dff77603a85"
      },
      "execution_count": null,
      "outputs": [
        {
          "output_type": "stream",
          "name": "stdout",
          "text": [
            "Valores unidospor columnas: \n",
            "ORIGEN                                  2\n",
            "PRODUCTO                            10030\n",
            "GRADO DE ALCOHOL                     1043\n",
            "REGISTRO SANITARIO                   4216\n",
            "VIGENCIA DE REGISTRO SANITARIO       1977\n",
            "RESOLUCIÓN DE REGISTRO SANITARIO     5154\n",
            "PRODUCTOR                             383\n",
            "NOMBRE EMPRESA DISTRIBUIDORA          221\n",
            "NIT                                   220\n",
            "dtype: int64\n"
          ]
        }
      ]
    },
    {
      "cell_type": "code",
      "source": [
        "nulos_antes = df.isnull().sum()\n",
        "duplicados_antes = df.duplicated().sum()\n",
        "\n",
        "print(\"Duplicados y valores nulos antes de la limpieza: \")\n",
        "print(f\"Duplicados: {duplicados_antes}\")\n",
        "print(f\"Valores nulos: {nulos_antes}\")"
      ],
      "metadata": {
        "id": "8vkdbX_EWWMI",
        "colab": {
          "base_uri": "https://localhost:8080/"
        },
        "outputId": "fb910f85-97ef-4254-b739-038d6634fd98"
      },
      "execution_count": 15,
      "outputs": [
        {
          "output_type": "stream",
          "name": "stdout",
          "text": [
            "Duplicados y valores nulos antes de la limpieza: \n",
            "Duplicados: 0\n",
            "Valores nulos: ORIGEN                              0\n",
            "PRODUCTO                            0\n",
            "GRADO DE ALCOHOL                    0\n",
            "REGISTRO SANITARIO                  0\n",
            "VIGENCIA DE REGISTRO SANITARIO      0\n",
            "RESOLUCIÓN DE REGISTRO SANITARIO    0\n",
            "PRODUCTOR                           0\n",
            "NOMBRE EMPRESA DISTRIBUIDORA        0\n",
            "NIT                                 0\n",
            "dtype: int64\n"
          ]
        }
      ]
    },
    {
      "cell_type": "code",
      "source": [
        "#limpieza\n",
        "\n",
        "# a. Eliminar filas con valor nen columnas criticas\n",
        "\n",
        "Columnas_criticas = ['ORIGEN', 'PRODUCTO', 'GRADO DE ALCOHOL', 'REGISTRO SANITARIO']\n",
        "df = df.dropna(subset=Columnas_criticas)\n"
      ],
      "metadata": {
        "id": "-5jEiHBv3d-N"
      },
      "execution_count": 5,
      "outputs": []
    },
    {
      "cell_type": "code",
      "source": [
        "nulos_antes = df.isnull().sum()\n",
        "print (nulos_antes)"
      ],
      "metadata": {
        "colab": {
          "base_uri": "https://localhost:8080/"
        },
        "id": "Vjzn2g_p56xH",
        "outputId": "12446e35-7f48-4615-832e-5a544ee98e42"
      },
      "execution_count": 7,
      "outputs": [
        {
          "output_type": "stream",
          "name": "stdout",
          "text": [
            "ORIGEN                                 0\n",
            "PRODUCTO                               0\n",
            "GRADO DE ALCOHOL                       0\n",
            "REGISTRO SANITARIO                     0\n",
            "VIGENCIA DE REGISTRO SANITARIO         0\n",
            "RESOLUCIÓN DE REGISTRO SANITARIO    6270\n",
            "PRODUCTOR                            168\n",
            "NOMBRE EMPRESA DISTRIBUIDORA           0\n",
            "NIT                                    0\n",
            "dtype: int64\n"
          ]
        }
      ]
    },
    {
      "cell_type": "code",
      "source": [
        "# Rellenar valores nulos\n",
        "\n",
        "df['NOMBRE EMPRESA DISTRIBUIDORA'].fillna('Desconocido', inplace=True)\n",
        "\n",
        "print(df.isnull().sum())"
      ],
      "metadata": {
        "colab": {
          "base_uri": "https://localhost:8080/"
        },
        "id": "s277lf9v6jaO",
        "outputId": "5d1bdc23-3aac-4811-99cc-3c6c9a39643e"
      },
      "execution_count": 12,
      "outputs": [
        {
          "output_type": "stream",
          "name": "stdout",
          "text": [
            "ORIGEN                                 0\n",
            "PRODUCTO                               0\n",
            "GRADO DE ALCOHOL                       0\n",
            "REGISTRO SANITARIO                     0\n",
            "VIGENCIA DE REGISTRO SANITARIO         0\n",
            "RESOLUCIÓN DE REGISTRO SANITARIO    6270\n",
            "PRODUCTOR                            168\n",
            "NOMBRE EMPRESA DISTRIBUIDORA           0\n",
            "NIT                                    0\n",
            "dtype: int64\n"
          ]
        },
        {
          "output_type": "stream",
          "name": "stderr",
          "text": [
            "<ipython-input-12-cff71aa4a022>:3: FutureWarning: A value is trying to be set on a copy of a DataFrame or Series through chained assignment using an inplace method.\n",
            "The behavior will change in pandas 3.0. This inplace method will never work because the intermediate object on which we are setting values always behaves as a copy.\n",
            "\n",
            "For example, when doing 'df[col].method(value, inplace=True)', try using 'df.method({col: value}, inplace=True)' or df[col] = df[col].method(value) instead, to perform the operation inplace on the original object.\n",
            "\n",
            "\n",
            "  df['NOMBRE EMPRESA DISTRIBUIDORA'].fillna('Desconocido', inplace=True)\n"
          ]
        }
      ]
    },
    {
      "cell_type": "code",
      "source": [
        "df = df.dropna()\n",
        "\n",
        "nulos_depues = df.isnull().sum()\n",
        "print(nulos_depues)\n"
      ],
      "metadata": {
        "colab": {
          "base_uri": "https://localhost:8080/"
        },
        "id": "4hHxUSBf8UEf",
        "outputId": "322c4316-d6f9-4e10-b412-c7a8e9d00ed4"
      },
      "execution_count": 13,
      "outputs": [
        {
          "output_type": "stream",
          "name": "stdout",
          "text": [
            "ORIGEN                              0\n",
            "PRODUCTO                            0\n",
            "GRADO DE ALCOHOL                    0\n",
            "REGISTRO SANITARIO                  0\n",
            "VIGENCIA DE REGISTRO SANITARIO      0\n",
            "RESOLUCIÓN DE REGISTRO SANITARIO    0\n",
            "PRODUCTOR                           0\n",
            "NOMBRE EMPRESA DISTRIBUIDORA        0\n",
            "NIT                                 0\n",
            "dtype: int64\n"
          ]
        }
      ]
    },
    {
      "cell_type": "code",
      "source": [
        "df = df.drop_duplicates()\n",
        "\n",
        "duplicados_despues = df.duplicated().sum()\n",
        "print(duplicados_despues)"
      ],
      "metadata": {
        "colab": {
          "base_uri": "https://localhost:8080/"
        },
        "id": "ChxQ4xCv9VAe",
        "outputId": "c4305f44-c58e-40a5-cec5-30722feb5f94"
      },
      "execution_count": 14,
      "outputs": [
        {
          "output_type": "stream",
          "name": "stdout",
          "text": [
            "0\n"
          ]
        }
      ]
    },
    {
      "cell_type": "code",
      "source": [
        "print(\"Datos despues de nuestra limpieza: \")\n",
        "\n",
        "print(df.head())"
      ],
      "metadata": {
        "colab": {
          "base_uri": "https://localhost:8080/"
        },
        "id": "HBevrfp0-xKF",
        "outputId": "143d1a71-c671-42c3-90ba-18ff100e6202"
      },
      "execution_count": 18,
      "outputs": [
        {
          "output_type": "stream",
          "name": "stdout",
          "text": [
            "Datos despues de nuestra limpieza: \n",
            "  ORIGEN                                PRODUCTO  GRADO DE ALCOHOL  \\\n",
            "0      N               Ap. Brissart Sabor A Cafe              10.0   \n",
            "1      N  Ap. Crema Con Sabor A Chocolate M Harv              14.0   \n",
            "2      N   Ap. Crema Sab Whisky Harvey Mackys 14              14.0   \n",
            "4      N      Ap. Crema Sab. A Ron Harvey Mackys              14.0   \n",
            "6      N       Ap. Crema Sabor A Whisky Brissart              14.0   \n",
            "\n",
            "     REGISTRO SANITARIO VIGENCIA DE REGISTRO SANITARIO  \\\n",
            "0  INVIMA 2019L-0010049                     19/06/2029   \n",
            "1  INVIMA 2016L-0008145                     14/04/2026   \n",
            "2  INVIMA 2017L-0008812                     17/07/2027   \n",
            "4  INVIMA 2014L-0007076                     12/05/2024   \n",
            "6  INVIMA 2019L-0009865                      8/03/2029   \n",
            "\n",
            "   RESOLUCIÓN DE REGISTRO SANITARIO                         PRODUCTOR  \\\n",
            "0                        19022399.0            LICORES BRISSART S.A.S   \n",
            "1                        16009721.0  CANDIOTA DE VINOS Y LICORES S.A.   \n",
            "2                        17025467.0  CANDIOTA DE VINOS Y LICORES S.A.   \n",
            "4                        14009708.0  CANDIOTA DE VINOS Y LICORES S.A.   \n",
            "6                        19005235.0            LICORES BRISSART S.A.S   \n",
            "\n",
            "               NOMBRE EMPRESA DISTRIBUIDORA        NIT  \n",
            "0  RODRIGUEZ Q. ALEXANDER/J&M DIST BRISSART  100278640  \n",
            "1  RODRIGUEZ Q. ALEXANDER/J&M DIST BRISSART  100278640  \n",
            "2  RODRIGUEZ Q. ALEXANDER/J&M DIST BRISSART  100278640  \n",
            "4  RODRIGUEZ Q. ALEXANDER/J&M DIST BRISSART  100278640  \n",
            "6  RODRIGUEZ Q. ALEXANDER/J&M DIST BRISSART  100278640  \n"
          ]
        }
      ]
    },
    {
      "cell_type": "code",
      "source": [
        "df.to_csv('Producto_licores_limpio.csv', index=False)\n",
        "print(\"El dataset ha sido guardado como 'Producto_licores_limpio.csv'\")"
      ],
      "metadata": {
        "colab": {
          "base_uri": "https://localhost:8080/"
        },
        "id": "OTCYM-Vj_dZX",
        "outputId": "9295898e-11f6-4ae2-f42e-3ce6f78d4155"
      },
      "execution_count": 19,
      "outputs": [
        {
          "output_type": "stream",
          "name": "stdout",
          "text": [
            "El dataset ha sido guardado como 'Producto_licores_limpio.csv'\n"
          ]
        }
      ]
    },
    {
      "cell_type": "code",
      "source": [
        "from google.colab import files\n",
        "files.download('Producto_licores_limpio.csv')"
      ],
      "metadata": {
        "colab": {
          "base_uri": "https://localhost:8080/",
          "height": 17
        },
        "id": "bThtXkksAkXG",
        "outputId": "a8bcedd5-bb14-4fd0-f738-c59bb4239c52"
      },
      "execution_count": 20,
      "outputs": [
        {
          "output_type": "display_data",
          "data": {
            "text/plain": [
              "<IPython.core.display.Javascript object>"
            ],
            "application/javascript": [
              "\n",
              "    async function download(id, filename, size) {\n",
              "      if (!google.colab.kernel.accessAllowed) {\n",
              "        return;\n",
              "      }\n",
              "      const div = document.createElement('div');\n",
              "      const label = document.createElement('label');\n",
              "      label.textContent = `Downloading \"${filename}\": `;\n",
              "      div.appendChild(label);\n",
              "      const progress = document.createElement('progress');\n",
              "      progress.max = size;\n",
              "      div.appendChild(progress);\n",
              "      document.body.appendChild(div);\n",
              "\n",
              "      const buffers = [];\n",
              "      let downloaded = 0;\n",
              "\n",
              "      const channel = await google.colab.kernel.comms.open(id);\n",
              "      // Send a message to notify the kernel that we're ready.\n",
              "      channel.send({})\n",
              "\n",
              "      for await (const message of channel.messages) {\n",
              "        // Send a message to notify the kernel that we're ready.\n",
              "        channel.send({})\n",
              "        if (message.buffers) {\n",
              "          for (const buffer of message.buffers) {\n",
              "            buffers.push(buffer);\n",
              "            downloaded += buffer.byteLength;\n",
              "            progress.value = downloaded;\n",
              "          }\n",
              "        }\n",
              "      }\n",
              "      const blob = new Blob(buffers, {type: 'application/binary'});\n",
              "      const a = document.createElement('a');\n",
              "      a.href = window.URL.createObjectURL(blob);\n",
              "      a.download = filename;\n",
              "      div.appendChild(a);\n",
              "      a.click();\n",
              "      div.remove();\n",
              "    }\n",
              "  "
            ]
          },
          "metadata": {}
        },
        {
          "output_type": "display_data",
          "data": {
            "text/plain": [
              "<IPython.core.display.Javascript object>"
            ],
            "application/javascript": [
              "download(\"download_a9388ed4-2ac8-4232-b21d-776ff4f9ac19\", \"Producto_licores_limpio.csv\", 2241564)"
            ]
          },
          "metadata": {}
        }
      ]
    },
    {
      "cell_type": "code",
      "source": [
        "descriptive_stats = df.describe()\n",
        "\n",
        "print(descriptive_stats)"
      ],
      "metadata": {
        "colab": {
          "base_uri": "https://localhost:8080/"
        },
        "id": "IKayk05dB9iH",
        "outputId": "58dcbc20-3975-418e-c393-711811d43086"
      },
      "execution_count": 21,
      "outputs": [
        {
          "output_type": "stream",
          "name": "stdout",
          "text": [
            "       GRADO DE ALCOHOL  RESOLUCIÓN DE REGISTRO SANITARIO           NIT\n",
            "count      15977.000000                      1.597700e+04  1.597700e+04\n",
            "mean          13.743034                      1.701385e+07  8.335934e+09\n",
            "std           10.941579                      8.072648e+06  1.771587e+09\n",
            "min            0.000000                      3.830000e+02  6.111870e+07\n",
            "25%            5.390000                      1.500189e+07  8.300318e+09\n",
            "50%           12.590000                      1.703566e+07  8.909003e+09\n",
            "75%           14.100000                      2.000380e+07  9.003673e+09\n",
            "max           55.000000                      9.605345e+07  1.128277e+10\n"
          ]
        }
      ]
    }
  ]
}